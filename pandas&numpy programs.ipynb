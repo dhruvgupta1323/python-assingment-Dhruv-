{
 "cells": [
  {
   "cell_type": "code",
   "execution_count": 2,
   "id": "19819618-8705-4abe-9d48-d4576864309a",
   "metadata": {},
   "outputs": [],
   "source": [
    "import pandas as pd\n"
   ]
  },
  {
   "cell_type": "code",
   "execution_count": 3,
   "id": "24f49631-eb91-4d69-af60-9cc67b3c911b",
   "metadata": {},
   "outputs": [],
   "source": [
    "import numpy as np"
   ]
  },
  {
   "cell_type": "code",
   "execution_count": 43,
   "id": "cde99b4c-f831-477e-8968-acb727f008d5",
   "metadata": {},
   "outputs": [
    {
     "name": "stdout",
     "output_type": "stream",
     "text": [
      "  Name  Age           City\n",
      "0    a   24       New York\n",
      "1    B   27  San Francisco\n",
      "2    C   22    Los Angeles\n",
      "3    D   32        Chicago\n"
     ]
    }
   ],
   "source": [
    "data = {\n",
    "    'Name': ['a', 'B', 'C', 'D'],\n",
    "    'Age': [24, 27, 22, 32],\n",
    "    'City': ['New York', 'San Francisco', 'Los Angeles', 'Chicago']\n",
    "}\n",
    "df = pd.DataFrame(data)\n",
    "print(df)"
   ]
  },
  {
   "cell_type": "code",
   "execution_count": 8,
   "id": "f1a94d81-ee3e-43c8-8bc2-41054d747f4b",
   "metadata": {},
   "outputs": [],
   "source": [
    "import pandas as pd\n",
    "df = pd.read_csv('iris.csv')\n",
    "\n"
   ]
  },
  {
   "cell_type": "code",
   "execution_count": 10,
   "id": "93882652-352a-43a6-8d93-99ba9ea694a7",
   "metadata": {},
   "outputs": [
    {
     "data": {
      "text/html": [
       "<div>\n",
       "<style scoped>\n",
       "    .dataframe tbody tr th:only-of-type {\n",
       "        vertical-align: middle;\n",
       "    }\n",
       "\n",
       "    .dataframe tbody tr th {\n",
       "        vertical-align: top;\n",
       "    }\n",
       "\n",
       "    .dataframe thead th {\n",
       "        text-align: right;\n",
       "    }\n",
       "</style>\n",
       "<table border=\"1\" class=\"dataframe\">\n",
       "  <thead>\n",
       "    <tr style=\"text-align: right;\">\n",
       "      <th></th>\n",
       "      <th>sepal_length</th>\n",
       "      <th>sepal_width</th>\n",
       "      <th>petal_length</th>\n",
       "      <th>petal_width</th>\n",
       "      <th>species</th>\n",
       "    </tr>\n",
       "  </thead>\n",
       "  <tbody>\n",
       "    <tr>\n",
       "      <th>0</th>\n",
       "      <td>5.1</td>\n",
       "      <td>3.5</td>\n",
       "      <td>1.4</td>\n",
       "      <td>0.2</td>\n",
       "      <td>setosa</td>\n",
       "    </tr>\n",
       "    <tr>\n",
       "      <th>1</th>\n",
       "      <td>4.9</td>\n",
       "      <td>3.0</td>\n",
       "      <td>1.4</td>\n",
       "      <td>0.2</td>\n",
       "      <td>setosa</td>\n",
       "    </tr>\n",
       "    <tr>\n",
       "      <th>2</th>\n",
       "      <td>4.7</td>\n",
       "      <td>3.2</td>\n",
       "      <td>1.3</td>\n",
       "      <td>0.2</td>\n",
       "      <td>setosa</td>\n",
       "    </tr>\n",
       "    <tr>\n",
       "      <th>3</th>\n",
       "      <td>4.6</td>\n",
       "      <td>3.1</td>\n",
       "      <td>1.5</td>\n",
       "      <td>0.2</td>\n",
       "      <td>setosa</td>\n",
       "    </tr>\n",
       "    <tr>\n",
       "      <th>4</th>\n",
       "      <td>5.0</td>\n",
       "      <td>3.6</td>\n",
       "      <td>1.4</td>\n",
       "      <td>0.2</td>\n",
       "      <td>setosa</td>\n",
       "    </tr>\n",
       "  </tbody>\n",
       "</table>\n",
       "</div>"
      ],
      "text/plain": [
       "   sepal_length  sepal_width  petal_length  petal_width species\n",
       "0           5.1          3.5           1.4          0.2  setosa\n",
       "1           4.9          3.0           1.4          0.2  setosa\n",
       "2           4.7          3.2           1.3          0.2  setosa\n",
       "3           4.6          3.1           1.5          0.2  setosa\n",
       "4           5.0          3.6           1.4          0.2  setosa"
      ]
     },
     "execution_count": 10,
     "metadata": {},
     "output_type": "execute_result"
    }
   ],
   "source": [
    "df.head()"
   ]
  },
  {
   "cell_type": "code",
   "execution_count": 12,
   "id": "92dabb5f-ad2e-489d-9b0a-afbfb88b0a98",
   "metadata": {},
   "outputs": [
    {
     "data": {
      "text/html": [
       "<div>\n",
       "<style scoped>\n",
       "    .dataframe tbody tr th:only-of-type {\n",
       "        vertical-align: middle;\n",
       "    }\n",
       "\n",
       "    .dataframe tbody tr th {\n",
       "        vertical-align: top;\n",
       "    }\n",
       "\n",
       "    .dataframe thead th {\n",
       "        text-align: right;\n",
       "    }\n",
       "</style>\n",
       "<table border=\"1\" class=\"dataframe\">\n",
       "  <thead>\n",
       "    <tr style=\"text-align: right;\">\n",
       "      <th></th>\n",
       "      <th>sepal_length</th>\n",
       "      <th>sepal_width</th>\n",
       "      <th>petal_length</th>\n",
       "      <th>petal_width</th>\n",
       "      <th>species</th>\n",
       "    </tr>\n",
       "  </thead>\n",
       "  <tbody>\n",
       "    <tr>\n",
       "      <th>145</th>\n",
       "      <td>6.7</td>\n",
       "      <td>3.0</td>\n",
       "      <td>5.2</td>\n",
       "      <td>2.3</td>\n",
       "      <td>virginica</td>\n",
       "    </tr>\n",
       "    <tr>\n",
       "      <th>146</th>\n",
       "      <td>6.3</td>\n",
       "      <td>2.5</td>\n",
       "      <td>5.0</td>\n",
       "      <td>1.9</td>\n",
       "      <td>virginica</td>\n",
       "    </tr>\n",
       "    <tr>\n",
       "      <th>147</th>\n",
       "      <td>6.5</td>\n",
       "      <td>3.0</td>\n",
       "      <td>5.2</td>\n",
       "      <td>2.0</td>\n",
       "      <td>virginica</td>\n",
       "    </tr>\n",
       "    <tr>\n",
       "      <th>148</th>\n",
       "      <td>6.2</td>\n",
       "      <td>3.4</td>\n",
       "      <td>5.4</td>\n",
       "      <td>2.3</td>\n",
       "      <td>virginica</td>\n",
       "    </tr>\n",
       "    <tr>\n",
       "      <th>149</th>\n",
       "      <td>5.9</td>\n",
       "      <td>3.0</td>\n",
       "      <td>5.1</td>\n",
       "      <td>1.8</td>\n",
       "      <td>virginica</td>\n",
       "    </tr>\n",
       "  </tbody>\n",
       "</table>\n",
       "</div>"
      ],
      "text/plain": [
       "     sepal_length  sepal_width  petal_length  petal_width    species\n",
       "145           6.7          3.0           5.2          2.3  virginica\n",
       "146           6.3          2.5           5.0          1.9  virginica\n",
       "147           6.5          3.0           5.2          2.0  virginica\n",
       "148           6.2          3.4           5.4          2.3  virginica\n",
       "149           5.9          3.0           5.1          1.8  virginica"
      ]
     },
     "execution_count": 12,
     "metadata": {},
     "output_type": "execute_result"
    }
   ],
   "source": [
    "df.tail()"
   ]
  },
  {
   "cell_type": "code",
   "execution_count": 14,
   "id": "b6151dd2-d027-417c-a1c5-9fb9a7670009",
   "metadata": {},
   "outputs": [
    {
     "name": "stdout",
     "output_type": "stream",
     "text": [
      "<class 'pandas.core.frame.DataFrame'>\n",
      "RangeIndex: 150 entries, 0 to 149\n",
      "Data columns (total 5 columns):\n",
      " #   Column        Non-Null Count  Dtype  \n",
      "---  ------        --------------  -----  \n",
      " 0   sepal_length  150 non-null    float64\n",
      " 1   sepal_width   150 non-null    float64\n",
      " 2   petal_length  150 non-null    float64\n",
      " 3   petal_width   150 non-null    float64\n",
      " 4   species       150 non-null    object \n",
      "dtypes: float64(4), object(1)\n",
      "memory usage: 6.0+ KB\n"
     ]
    }
   ],
   "source": [
    "df.info()"
   ]
  },
  {
   "cell_type": "code",
   "execution_count": 16,
   "id": "4bfef0b1-2ffc-40f6-88dd-da4df5a6ea21",
   "metadata": {},
   "outputs": [
    {
     "data": {
      "text/html": [
       "<div>\n",
       "<style scoped>\n",
       "    .dataframe tbody tr th:only-of-type {\n",
       "        vertical-align: middle;\n",
       "    }\n",
       "\n",
       "    .dataframe tbody tr th {\n",
       "        vertical-align: top;\n",
       "    }\n",
       "\n",
       "    .dataframe thead th {\n",
       "        text-align: right;\n",
       "    }\n",
       "</style>\n",
       "<table border=\"1\" class=\"dataframe\">\n",
       "  <thead>\n",
       "    <tr style=\"text-align: right;\">\n",
       "      <th></th>\n",
       "      <th>sepal_length</th>\n",
       "      <th>sepal_width</th>\n",
       "      <th>petal_length</th>\n",
       "      <th>petal_width</th>\n",
       "    </tr>\n",
       "  </thead>\n",
       "  <tbody>\n",
       "    <tr>\n",
       "      <th>count</th>\n",
       "      <td>150.000000</td>\n",
       "      <td>150.000000</td>\n",
       "      <td>150.000000</td>\n",
       "      <td>150.000000</td>\n",
       "    </tr>\n",
       "    <tr>\n",
       "      <th>mean</th>\n",
       "      <td>5.843333</td>\n",
       "      <td>3.054000</td>\n",
       "      <td>3.758667</td>\n",
       "      <td>1.198667</td>\n",
       "    </tr>\n",
       "    <tr>\n",
       "      <th>std</th>\n",
       "      <td>0.828066</td>\n",
       "      <td>0.433594</td>\n",
       "      <td>1.764420</td>\n",
       "      <td>0.763161</td>\n",
       "    </tr>\n",
       "    <tr>\n",
       "      <th>min</th>\n",
       "      <td>4.300000</td>\n",
       "      <td>2.000000</td>\n",
       "      <td>1.000000</td>\n",
       "      <td>0.100000</td>\n",
       "    </tr>\n",
       "    <tr>\n",
       "      <th>25%</th>\n",
       "      <td>5.100000</td>\n",
       "      <td>2.800000</td>\n",
       "      <td>1.600000</td>\n",
       "      <td>0.300000</td>\n",
       "    </tr>\n",
       "    <tr>\n",
       "      <th>50%</th>\n",
       "      <td>5.800000</td>\n",
       "      <td>3.000000</td>\n",
       "      <td>4.350000</td>\n",
       "      <td>1.300000</td>\n",
       "    </tr>\n",
       "    <tr>\n",
       "      <th>75%</th>\n",
       "      <td>6.400000</td>\n",
       "      <td>3.300000</td>\n",
       "      <td>5.100000</td>\n",
       "      <td>1.800000</td>\n",
       "    </tr>\n",
       "    <tr>\n",
       "      <th>max</th>\n",
       "      <td>7.900000</td>\n",
       "      <td>4.400000</td>\n",
       "      <td>6.900000</td>\n",
       "      <td>2.500000</td>\n",
       "    </tr>\n",
       "  </tbody>\n",
       "</table>\n",
       "</div>"
      ],
      "text/plain": [
       "       sepal_length  sepal_width  petal_length  petal_width\n",
       "count    150.000000   150.000000    150.000000   150.000000\n",
       "mean       5.843333     3.054000      3.758667     1.198667\n",
       "std        0.828066     0.433594      1.764420     0.763161\n",
       "min        4.300000     2.000000      1.000000     0.100000\n",
       "25%        5.100000     2.800000      1.600000     0.300000\n",
       "50%        5.800000     3.000000      4.350000     1.300000\n",
       "75%        6.400000     3.300000      5.100000     1.800000\n",
       "max        7.900000     4.400000      6.900000     2.500000"
      ]
     },
     "execution_count": 16,
     "metadata": {},
     "output_type": "execute_result"
    }
   ],
   "source": [
    "df.describe()"
   ]
  },
  {
   "cell_type": "code",
   "execution_count": 18,
   "id": "3243c0f6-7141-4739-b9d0-46970b90ab9f",
   "metadata": {},
   "outputs": [
    {
     "data": {
      "text/plain": [
       "<Axes: >"
      ]
     },
     "execution_count": 18,
     "metadata": {},
     "output_type": "execute_result"
    },
    {
     "data": {
      "image/png": "[encoded data removed]",
      "text/plain": [
       "<Figure size 640x480 with 1 Axes>"
      ]
     },
     "metadata": {},
     "output_type": "display_data"
    }
   ],
   "source": [
    "df.plot()"
   ]
  },
  {
   "cell_type": "code",
   "execution_count": 19,
   "id": "2ac4d95a-3016-47ea-ad1b-075020ebd175",
   "metadata": {},
   "outputs": [
    {
     "name": "stdout",
     "output_type": "stream",
     "text": [
      "15\n"
     ]
    }
   ],
   "source": [
    "def array_sum(arr):\n",
    "    return np.sum(arr)\n",
    "\n",
    "result = array_sum(np.array([1, 2, 3, 4, 5]))\n",
    "print(result)"
   ]
  },
  {
   "cell_type": "code",
   "execution_count": 20,
   "id": "bab4dfe8-5b2b-48f4-97f4-2a11c5c47e69",
   "metadata": {},
   "outputs": [
    {
     "name": "stdout",
     "output_type": "stream",
     "text": [
      "32\n"
     ]
    }
   ],
   "source": [
    "def dot_product(vec1, vec2):\n",
    "    return np.dot(vec1, vec2)\n",
    "\n",
    "result = dot_product(np.array([1, 2, 3]), np.array([4, 5, 6]))\n",
    "print(result)"
   ]
  },
  {
   "cell_type": "code",
   "execution_count": 37,
   "id": "820da6b7-2cef-47a2-a605-38433869a01e",
   "metadata": {},
   "outputs": [
    {
     "name": "stdin",
     "output_type": "stream",
     "text": [
      "enter your phone brand apple\n",
      "enter your phone model  i phone15\n",
      "enter your phone_number 6633\n"
     ]
    },
    {
     "name": "stdout",
     "output_type": "stream",
     "text": [
      "calling : 6633 by apple i phone15\n"
     ]
    }
   ],
   "source": [
    "class Phone:\n",
    "    def __init__(self,brand,model,phone_number):\n",
    "       self.brand=brand\n",
    "       self.model=model\n",
    "       self.phone_number=phone_number\n",
    "        \n",
    "    def make_call(self):\n",
    "        print(\"calling :\",self.phone_number,'by',self.brand,self.model)\n",
    "\n",
    "brand=input(\"enter your phone brand\")\n",
    "model=input(\"enter your phone model \")\n",
    "phone_number=input(\"enter your phone_number\")\n",
    "phone=Phone(brand,model,phone_number)\n",
    "phone.make_call()"
   ]
  },
  {
   "cell_type": "code",
   "execution_count": 24,
   "id": "9807f317-5f71-4b87-8074-0c66b74c3100",
   "metadata": {},
   "outputs": [
    {
     "name": "stdin",
     "output_type": "stream",
     "text": [
      "\n",
      "            Hi, how can I help you?\n",
      "            1. Create a PIN\n",
      "            2. Deposit\n",
      "            3. Withdraw\n",
      "            4. Check Balance\n",
      "            5. Exit\n",
      "            Please enter your choice: \n",
      "             1\n",
      "Please enter your new PIN:  1323\n"
     ]
    },
    {
     "name": "stdout",
     "output_type": "stream",
     "text": [
      "PIN set successfully!\n"
     ]
    },
    {
     "name": "stdin",
     "output_type": "stream",
     "text": [
      "\n",
      "            Hi, how can I help you?\n",
      "            1. Create a PIN\n",
      "            2. Deposit\n",
      "            3. Withdraw\n",
      "            4. Check Balance\n",
      "            5. Exit\n",
      "            Please enter your choice: \n",
      "             2\n",
      "Please enter your PIN:  1323\n",
      "Please enter the amount to deposit:  75000\n"
     ]
    },
    {
     "name": "stdout",
     "output_type": "stream",
     "text": [
      "Your amount 75000.0 has been deposited.\n"
     ]
    },
    {
     "name": "stdin",
     "output_type": "stream",
     "text": [
      "\n",
      "            Hi, how can I help you?\n",
      "            1. Create a PIN\n",
      "            2. Deposit\n",
      "            3. Withdraw\n",
      "            4. Check Balance\n",
      "            5. Exit\n",
      "            Please enter your choice: \n",
      "             3\n",
      "Please enter your PIN:  1323\n",
      "Please enter the amount to withdraw:  10000\n"
     ]
    },
    {
     "name": "stdout",
     "output_type": "stream",
     "text": [
      "Rupees 10000.0 has been withdrawn.\n"
     ]
    },
    {
     "name": "stdin",
     "output_type": "stream",
     "text": [
      "\n",
      "            Hi, how can I help you?\n",
      "            1. Create a PIN\n",
      "            2. Deposit\n",
      "            3. Withdraw\n",
      "            4. Check Balance\n",
      "            5. Exit\n",
      "            Please enter your choice: \n",
      "             4\n",
      "Please enter your PIN:  1323\n"
     ]
    },
    {
     "name": "stdout",
     "output_type": "stream",
     "text": [
      "Your available balance is: 65000.0\n"
     ]
    },
    {
     "name": "stdin",
     "output_type": "stream",
     "text": [
      "\n",
      "            Hi, how can I help you?\n",
      "            1. Create a PIN\n",
      "            2. Deposit\n",
      "            3. Withdraw\n",
      "            4. Check Balance\n",
      "            5. Exit\n",
      "            Please enter your choice: \n",
      "             5\n"
     ]
    },
    {
     "name": "stdout",
     "output_type": "stream",
     "text": [
      "Thank you! Exiting...\n"
     ]
    }
   ],
   "source": [
    "class ATM:\n",
    "    def __init__(self): \n",
    "        self.pin = \"\"\n",
    "        self.balance = 0\n",
    "        self.menu()\n",
    "\n",
    "    def menu(self):\n",
    "        while True:\n",
    "            user_input = input(\"\"\"\n",
    "            Hi, how can I help you?\n",
    "            1. Create a PIN\n",
    "            2. Deposit\n",
    "            3. Withdraw\n",
    "            4. Check Balance\n",
    "            5. Exit\n",
    "            Please enter your choice: \n",
    "            \"\"\")\n",
    "            if user_input == \"1\":\n",
    "                self.create_pin()\n",
    "            elif user_input == \"2\":\n",
    "                self.deposit()\n",
    "            elif user_input == \"3\":\n",
    "                self.withdraw()\n",
    "            elif user_input == \"4\":\n",
    "                self.check_balance()\n",
    "            elif user_input == \"5\":\n",
    "                print(\"Thank you! Exiting...\")\n",
    "                break\n",
    "            else:\n",
    "                print(\"Invalid input! Try again.\")\n",
    "\n",
    "    def create_pin(self):\n",
    "        self.pin = input(\"Please enter your new PIN: \")\n",
    "        print(\"PIN set successfully!\")\n",
    "\n",
    "    def deposit(self):\n",
    "        temp_pin = input(\"Please enter your PIN: \")\n",
    "        if temp_pin == self.pin:\n",
    "            amount = float(input(\"Please enter the amount to deposit: \"))\n",
    "            self.balance += amount\n",
    "            print(\"Your amount\", amount, \"has been deposited.\")\n",
    "        else:\n",
    "            print(\"Wrong PIN.\")\n",
    "\n",
    "    def withdraw(self):\n",
    "        temp_pin = input(\"Please enter your PIN: \")\n",
    "        if temp_pin == self.pin:\n",
    "            amount = float(input(\"Please enter the amount to withdraw: \"))\n",
    "            if amount <= self.balance:\n",
    "                self.balance -= amount\n",
    "                print(\"Rupees\", amount, \"has been withdrawn.\")\n",
    "            else:\n",
    "                print(\"Insufficient balance.\")\n",
    "        else:\n",
    "            print(\"Wrong PIN.\")\n",
    "\n",
    "    def check_balance(self):\n",
    "        temp_pin = input(\"Please enter your PIN: \")\n",
    "        if temp_pin == self.pin:\n",
    "            print(\"Your available balance is:\", self.balance)\n",
    "        else:\n",
    "            print(\"Incorrect PIN.\")\n",
    "\n",
    "# Create an instance of the ATM class\n",
    "atm_instance = ATM()\n"
   ]
  },
  {
   "cell_type": "code",
   "execution_count": 41,
   "id": "38243d80-1c2d-46bf-b481-209d5236d786",
   "metadata": {},
   "outputs": [
    {
     "name": "stdout",
     "output_type": "stream",
     "text": [
      "21 is not a prime number.\n"
     ]
    }
   ],
   "source": [
    "def is_prime(number):\n",
    "    if number <= 1:\n",
    "        return False\n",
    "    for i in range(2, int(number ** 0.5) + 1):\n",
    "        if number % i == 0:\n",
    "            return False\n",
    "    return True\n",
    "\n",
    "num = 21\n",
    "if is_prime(num):\n",
    "    print(num,\"is a prime number.\")\n",
    "else:\n",
    "    print(num,\"is not a prime number.\")"
   ]
  },
  {
   "cell_type": "code",
   "execution_count": 39,
   "id": "6fe3c242-a052-414b-b060-9bba9ad49a13",
   "metadata": {},
   "outputs": [
    {
     "name": "stdout",
     "output_type": "stream",
     "text": [
      "100 is Even.\n"
     ]
    }
   ],
   "source": [
    "def is_odd_even(number):\n",
    "    if number % 2 == 0:\n",
    "        return \"Even\"\n",
    "    else:\n",
    "        return \"Odd\"\n",
    "\n",
    "num =100\n",
    "print(f\"{num} is {is_odd_even(num)}.\")"
   ]
  },
  {
   "cell_type": "code",
   "execution_count": 30,
   "id": "17089c69-1f29-4c49-ad70-2a620774f879",
   "metadata": {},
   "outputs": [
    {
     "name": "stdout",
     "output_type": "stream",
     "text": [
      "[[4.         4.         3.         3.         4.         3.\n",
      "  3.         4.         3.         4.        ]\n",
      " [4.         3.         3.         3.         4.         4.\n",
      "  3.         4.         4.         3.        ]\n",
      " [4.         4.         4.         3.         4.         4.\n",
      "  3.         4.         3.         3.        ]\n",
      " [4.         3.         3.         3.         3.         4.\n",
      "  3.         3.         3.         3.        ]\n",
      " [3.         3.         3.         3.         3.         3.\n",
      "  3.         3.         4.         3.        ]\n",
      " [0.26938682 0.54869996 0.16052969 0.21546591 0.12865694 0.85732056\n",
      "  0.30295855 0.02925858 0.90585455 0.84043744]\n",
      " [0.29637418 0.30817635 0.67613404 0.52111    0.90454381 0.82843744\n",
      "  0.14304234 0.16378823 0.24319525 0.03638116]\n",
      " [0.42034389 0.82181678 0.7094952  0.17303024 0.89751116 0.62708547\n",
      "  0.40173695 0.0910561  0.89946996 0.23822944]\n",
      " [0.073362   0.29534039 0.05037821 0.08509698 0.23248801 0.51716891\n",
      "  0.5692846  0.78638539 0.6696856  0.55031888]\n",
      " [0.8148498  0.14608857 0.35339065 0.39513069 0.38332852 0.90651681\n",
      "  0.51009543 0.76692823 0.86199939 0.09622126]]\n"
     ]
    }
   ],
   "source": [
    "from numpy import random\n",
    "\n",
    "x =np.random.randint(3,5, size=(5,10))\n",
    "\n",
    "y = random.rand(5,10)\n",
    "\n",
    "arr = np.concatenate((x,y))\n",
    "print(arr)"
   ]
  },
  {
   "cell_type": "code",
   "execution_count": 32,
   "id": "d91a7405-083f-41d6-8eae-abb17ebd7606",
   "metadata": {},
   "outputs": [
    {
     "data": {
      "text/plain": [
       "array([[4.26938682, 4.54869996, 3.16052969, 3.21546591, 4.12865694,\n",
       "        3.85732056, 3.30295855, 4.02925858, 3.90585455, 4.84043744],\n",
       "       [4.29637418, 3.30817635, 3.67613404, 3.52111   , 4.90454381,\n",
       "        4.82843744, 3.14304234, 4.16378823, 4.24319525, 3.03638116],\n",
       "       [4.42034389, 4.82181678, 4.7094952 , 3.17303024, 4.89751116,\n",
       "        4.62708547, 3.40173695, 4.0910561 , 3.89946996, 3.23822944],\n",
       "       [4.073362  , 3.29534039, 3.05037821, 3.08509698, 3.23248801,\n",
       "        4.51716891, 3.5692846 , 3.78638539, 3.6696856 , 3.55031888],\n",
       "       [3.8148498 , 3.14608857, 3.35339065, 3.39513069, 3.38332852,\n",
       "        3.90651681, 3.51009543, 3.76692823, 4.86199939, 3.09622126]])"
      ]
     },
     "execution_count": 32,
     "metadata": {},
     "output_type": "execute_result"
    }
   ],
   "source": [
    "x+y"
   ]
  },
  {
   "cell_type": "code",
   "execution_count": 34,
   "id": "71eb10c5-88ec-4daa-833f-a724e507e880",
   "metadata": {},
   "outputs": [
    {
     "data": {
      "text/plain": [
       "array([[  1.        ,  12.25641026],\n",
       "       [ 23.51282051,  34.76923077],\n",
       "       [ 46.02564103,  57.28205128],\n",
       "       [ 68.53846154,  79.79487179],\n",
       "       [ 91.05128205, 102.30769231],\n",
       "       [113.56410256, 124.82051282],\n",
       "       [136.07692308, 147.33333333],\n",
       "       [158.58974359, 169.84615385],\n",
       "       [181.1025641 , 192.35897436],\n",
       "       [203.61538462, 214.87179487],\n",
       "       [226.12820513, 237.38461538],\n",
       "       [248.64102564, 259.8974359 ],\n",
       "       [271.15384615, 282.41025641],\n",
       "       [293.66666667, 304.92307692],\n",
       "       [316.17948718, 327.43589744],\n",
       "       [338.69230769, 349.94871795],\n",
       "       [361.20512821, 372.46153846],\n",
       "       [383.71794872, 394.97435897],\n",
       "       [406.23076923, 417.48717949],\n",
       "       [428.74358974, 440.        ]])"
      ]
     },
     "execution_count": 34,
     "metadata": {},
     "output_type": "execute_result"
    }
   ],
   "source": [
    "np.linspace(1,440,40).reshape(20,2)"
   ]
  },
  {
   "cell_type": "code",
   "execution_count": 45,
   "id": "071c1eef-7127-41e6-b53e-2de1da497a94",
   "metadata": {},
   "outputs": [
    {
     "data": {
      "text/plain": [
       "array([  1.        ,  12.25641026,  23.51282051,  34.76923077,\n",
       "        46.02564103,  57.28205128,  68.53846154,  79.79487179,\n",
       "        91.05128205, 102.30769231, 113.56410256, 124.82051282,\n",
       "       136.07692308, 147.33333333, 158.58974359, 169.84615385,\n",
       "       181.1025641 , 192.35897436, 203.61538462, 214.87179487,\n",
       "       226.12820513, 237.38461538, 248.64102564, 259.8974359 ,\n",
       "       271.15384615, 282.41025641, 293.66666667, 304.92307692,\n",
       "       316.17948718, 327.43589744, 338.69230769, 349.94871795,\n",
       "       361.20512821, 372.46153846, 383.71794872, 394.97435897,\n",
       "       406.23076923, 417.48717949, 428.74358974, 440.        ])"
      ]
     },
     "execution_count": 45,
     "metadata": {},
     "output_type": "execute_result"
    }
   ],
   "source": [
    "np.linspace(1,440,40)"
   ]
  },
  {
   "cell_type": "code",
   "execution_count": null,
   "id": "d9d55e3b-1b21-4f5f-ac48-b26159332a46",
   "metadata": {},
   "outputs": [],
   "source": []
  }
 ],
 "metadata": {
  "kernelspec": {
   "display_name": "Python 3 (ipykernel)",
   "language": "python",
   "name": "python3"
  },
  "language_info": {
   "codemirror_mode": {
    "name": "ipython",
    "version": 3
   },
   "file_extension": ".py",
   "mimetype": "text/x-python",
   "name": "python",
   "nbconvert_exporter": "python",
   "pygments_lexer": "ipython3",
   "version": "3.11.7"
  }
 },
 "nbformat": 4,
 "nbformat_minor": 5
}
