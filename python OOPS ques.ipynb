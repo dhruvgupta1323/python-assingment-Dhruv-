{
 "cells": [
  {
   "cell_type": "code",
   "execution_count": null,
   "id": "f2afc463-c405-4479-a254-4d98d9751414",
   "metadata": {},
   "outputs": [],
   "source": [
    "## Assignments\n",
    "\n",
    "1. the `Person` class has a constructor that takes `name` and `age` as arguments and assigns them to the object's attributes. The `introduce` method is then invoked on the object to introduce the person.\n",
    "\n",
    "2. the `Car` class has a constructor that takes `brand` and `model` as arguments and assigns them to the object's attributes. The `display_info` method is then invoked on the object to display the car's brand and model.\n",
    "\n",
    "3. the `BankAccount` class has a constructor that takes `account_number` and `balance` as arguments and assigns them to the object's attributes. The `display_balance` method is then invoked on the object to display the account number and balance.\n",
    "\n",
    "4.  the `MobilePhone` class has a constructor that takes `brand` and `model` as arguments and assigns them to the object's attributes. The `make_call` method is then invoked on the object to make a call with the phone.\n",
    "\n",
    "5. the `Book` class has a constructor that takes `title` and `author` as arguments and assigns them to the object's attributes. The `display_info` method is then invoked on the object to display the book's title and author.\n",
    "\n",
    "6. Vehicles: Create a base class called Vehicle with attributes such as make, model, and year. Implement two subclasses Car and Motorcycle that inherit from Vehicle. Add additional methods to the subclasses, such as start_engine() and stop_engine(), and handle any specific behavior or rules for each vehicle type.\n",
    "\n",
    "7. Animals: Create a base class called Animal with methods such as eat() and sleep(). Implement two subclasses Dog and Cat that inherit from Animal. Add additional methods to the subclasses, such as bark() for dogs and meow() for cats, and handle any specific behavior or rules for each animal type.\n",
    "\n",
    "8. Library Catalog: Create a base class called LibraryItem with attributes such as title, author, and publication_year. Implement two subclasses Book and Magazine that inherit from LibraryItem. Add additional methods to the subclasses, such as checkout() and return_item(), and handle any specific behavior or rules for each item type.\n",
    "\n",
    "9. Employees and Departments: Create a base class called Employee with attributes such as name, salary, and department. Implement two subclasses Manager and Staff that inherit from Employee. Add additional methods to the subclasses, such as assign_task() for managers and attend_meeting() for staff members. Create a separate class called Department that contains a list of employees and methods to add or remove employees from the department.\n",
    "\n",
    "10. Bank Transactions: Create a base class called BankAccount with attributes such as account_number and balance. Implement subclasses for different types of accounts such as CheckingAccount and SavingsAccount that inherit from BankAccount. Add additional methods to the subclasses, such as withdraw() and deposit(), and handle any specific behavior or rules for each account type.\n",
    "\n",
    "11. School Management System: Create a base class called Person with attributes such as name, age, and address. Implement subclasses for different roles such as Student, Teacher, and Staff that inherit from Person. Add additional methods to the subclasses, such as take_exam() for students and teach_subject() for teachers."
   ]
  },
  {
   "cell_type": "code",
   "execution_count": 3,
   "id": "50d340e4-26bb-4a2c-88ab-648028d1191f",
   "metadata": {},
   "outputs": [
    {
     "name": "stdin",
     "output_type": "stream",
     "text": [
      "enter your name dhruv\n",
      "enter your age  17\n"
     ]
    },
    {
     "name": "stdout",
     "output_type": "stream",
     "text": [
      "you name is : dhruv and your age is : 17\n"
     ]
    }
   ],
   "source": [
    "class Person:\n",
    "    def __init__(self,name,age):\n",
    "       self.name=name\n",
    "       self.age=age\n",
    "    def introduce(self):\n",
    "        print(\"you name is :\",self.name,\"and your age is :\",self.age)\n",
    "\n",
    "name=input(\"enter your name\")\n",
    "age=input(\"enter your age \")\n",
    "person= Person(name,age)\n",
    "person.introduce()\n",
    "\n"
   ]
  },
  {
   "cell_type": "code",
   "execution_count": 7,
   "id": "e337f68b-a79f-4167-8473-ef8f6d756f25",
   "metadata": {},
   "outputs": [
    {
     "name": "stdin",
     "output_type": "stream",
     "text": [
      "enter your car brand supra\n",
      "enter your car model  mk4\n"
     ]
    },
    {
     "name": "stdout",
     "output_type": "stream",
     "text": [
      "you car brand is : supra and your car model is : mk4\n"
     ]
    }
   ],
   "source": [
    "class Car:\n",
    "    def __init__(self,brand,model):\n",
    "       self.brand=brand\n",
    "       self.model=model\n",
    "    def display_info(self):\n",
    "        print(\"you car brand is :\",self.brand,\"and your car model is :\",self.model)\n",
    "\n",
    "brand=input(\"enter your car brand\")\n",
    "model=input(\"enter your car model \")\n",
    "car= Car(brand,model)\n",
    "car.display_info()"
   ]
  },
  {
   "cell_type": "code",
   "execution_count": 10,
   "id": "1bbd178e-76e1-4ec2-a06f-26b74068e28a",
   "metadata": {},
   "outputs": [
    {
     "name": "stdout",
     "output_type": "stream",
     "text": [
      "your bank aacount number is : 484632434 and your current balance is: 654100\n"
     ]
    }
   ],
   "source": [
    "class BankAccount:\n",
    "    def __init__(self, account_number, balance):\n",
    "       \n",
    "        self.account_number = account_number\n",
    "        self.balance = balance\n",
    "\n",
    "    def display_balance(self):\n",
    "       \n",
    "        print(\"your bank aacount number is :\",self.account_number,\"and your current balance is:\",self.balance)\n",
    " \n",
    "account = BankAccount(\"484632434\", 654100)\n",
    "account.display_balance()\n"
   ]
  },
  {
   "cell_type": "code",
   "execution_count": 13,
   "id": "64c3b33b-4812-4b31-ae5d-efc997155ac8",
   "metadata": {},
   "outputs": [
    {
     "name": "stdin",
     "output_type": "stream",
     "text": [
      "enter your phone brand apple\n",
      "enter your phone model  i phone16\n",
      "enter your phone_number 7985431\n"
     ]
    },
    {
     "name": "stdout",
     "output_type": "stream",
     "text": [
      "calling : 7985431 by apple i phone16\n"
     ]
    }
   ],
   "source": [
    "class Phone:\n",
    "    def __init__(self,brand,model,phone_number):\n",
    "       self.brand=brand\n",
    "       self.model=model\n",
    "       self.phone_number=phone_number\n",
    "        \n",
    "    def make_call(self):\n",
    "        print(\"calling :\",self.phone_number,'by',self.brand,self.model)\n",
    "\n",
    "brand=input(\"enter your phone brand\")\n",
    "model=input(\"enter your phone model \")\n",
    "phone_number=input(\"enter your phone_number\")\n",
    "phone=Phone(brand,model,phone_number)\n",
    "phone.make_call()"
   ]
  },
  {
   "cell_type": "code",
   "execution_count": null,
   "id": "c22d5fe1-5fe7-4f67-ae73-24ce3a827aea",
   "metadata": {},
   "outputs": [],
   "source": [
    " the `Book` class has a constructor that takes `title` and `author` as arguments and assigns them to the object's attributes. The `display_info` method is then invoked on the object to display the book's title and author.\n"
   ]
  },
  {
   "cell_type": "code",
   "execution_count": 20,
   "id": "da3f537e-0976-4cfe-b174-98c6a12bc7dc",
   "metadata": {},
   "outputs": [
    {
     "name": "stdin",
     "output_type": "stream",
     "text": [
      "Enter book title:  the girl on the train\n",
      "Enter book author:  paula hawkins\n"
     ]
    },
    {
     "name": "stdout",
     "output_type": "stream",
     "text": [
      " book: the girl on the train is written by paula hawkins\n"
     ]
    }
   ],
   "source": [
    "class Book:\n",
    "    def __init__(self, title, author):\n",
    "        self.title = title\n",
    "        self.author = author\n",
    "    \n",
    "    def display_info(self):\n",
    "        print(\" book:\", self.title, \"is written by\", self.author)\n",
    "\n",
    "\n",
    "title = input(\"Enter book title: \")\n",
    "author = input(\"Enter book author: \")\n",
    "book = Book(title, author)\n",
    "book.display_info()\n"
   ]
  },
  {
   "cell_type": "markdown",
   "id": "cd3956bb-a931-4ce3-8cd2-0948d5b837ab",
   "metadata": {},
   "source": [
    "6. Vehicles: Create a base class called Vehicle with attributes such as make, model, and year. Implement two subclasses Car and Motorcycle that inherit from Vehicle. Add additional methods to the subclasses, such as start_engine() and stop_engine(), and handle any specific behavior or rules for each vehicle type."
   ]
  },
  {
   "cell_type": "code",
   "execution_count": 36,
   "id": "6159ccc4-f9a8-4012-9a71-9f28b7bdeaf1",
   "metadata": {},
   "outputs": [
    {
     "name": "stdin",
     "output_type": "stream",
     "text": [
      "Enter car make:  supra\n",
      "Enter car model:  mk4\n",
      "Enter car year:  1993\n"
     ]
    },
    {
     "name": "stdout",
     "output_type": "stream",
     "text": [
      "engine started supra engine sound -- RATATATATATA\n",
      "engine stoped supra\n"
     ]
    },
    {
     "name": "stdin",
     "output_type": "stream",
     "text": [
      "Enter motorcycle make:  Kawasaki\n",
      "Enter motorcycle model:  Ninja H2R\n",
      "Enter motorcycle year:  2015\n"
     ]
    },
    {
     "name": "stdout",
     "output_type": "stream",
     "text": [
      "engine started Kawasaki\n",
      "engine stoped Kawasaki\n"
     ]
    }
   ],
   "source": [
    "class Vehicle:\n",
    "    def __init__(self, make, model, year):\n",
    "        self.make = make\n",
    "        self.model = model\n",
    "        self.year = year\n",
    "\n",
    "\n",
    " \n",
    "class Car(Vehicle):\n",
    "    def start_engine(self):\n",
    "        print(\"engine started\",self.make, \"engine sound -- RATATATATATA\")\n",
    "    def stop_engine(self):\n",
    "        print(\"engine stoped\",self.make)\n",
    " \n",
    "class Motorcycle(Vehicle):\n",
    "    def start_engine(self):\n",
    "        print(\"engine started\",self.make)\n",
    "    def stop_engine(self):\n",
    "        print(\"engine stoped\",self.make)\n",
    " \n",
    "car_make = input(\"Enter car make: \")\n",
    "car_model = input(\"Enter car model: \")\n",
    "car_year = input(\"Enter car year: \")\n",
    "car = Car(car_make, car_model, car_year)\n",
    " \n",
    "car.start_engine()\n",
    "car.stop_engine()\n",
    " \n",
    "motorcycle_make = input(\"Enter motorcycle make: \")\n",
    "motorcycle_model = input(\"Enter motorcycle model: \")\n",
    "motorcycle_year = input(\"Enter motorcycle year: \")\n",
    "motorcycle = Motorcycle(motorcycle_make, motorcycle_model, motorcycle_year)\n",
    " \n",
    "motorcycle.start_engine()\n",
    "motorcycle.stop_engine()\n"
   ]
  },
  {
   "cell_type": "markdown",
   "id": "fbc88766-5612-4b1e-ad27-5d90a9b80b38",
   "metadata": {},
   "source": [
    "7. Animals: Create a base class called Animal with methods such as eat() and sleep(). Implement two subclasses Dog and Cat that inherit from Animal. Add additional methods to the subclasses, such as bark() for dogs and meow() for cats, and handle any specific behavior or rules for each animal type."
   ]
  },
  {
   "cell_type": "code",
   "execution_count": 1,
   "id": "38f6604c-5e50-4f5a-b538-03ce162a1000",
   "metadata": {},
   "outputs": [
    {
     "name": "stdin",
     "output_type": "stream",
     "text": [
      "the dog food is : bone\n",
      "he sleeps in his  bed\n",
      "the sound he makes bhawww\n"
     ]
    },
    {
     "name": "stdout",
     "output_type": "stream",
     "text": [
      "the bhawww  sound makes by dog and he eat  bone daily and sleeps on his  bed\n"
     ]
    },
    {
     "name": "stdin",
     "output_type": "stream",
     "text": [
      " the cat food is  fish\n",
      "she sleep in his  bed\n",
      "the sound she makes meawwww\n"
     ]
    },
    {
     "name": "stdout",
     "output_type": "stream",
     "text": [
      "the meawwww  sound makes by cat and she eat  fish daily and sleeps on here  bed\n"
     ]
    }
   ],
   "source": [
    "class Animals:\n",
    "    def __init__(self,eat,sleep,sound):\n",
    "        self.eat=eat\n",
    "        self.sleep=sleep\n",
    "        self.sound=sound\n",
    "class Dog(Animals):\n",
    "    def dog_sound(self):\n",
    "        print(\"the\",self.sound,\" sound makes by dog\",\"and he eat \",self.eat,\"daily\",\"and sleeps on his \",self.sleep)\n",
    "class Cat(Animals):\n",
    "    def cat_sound(self):\n",
    "        print(\"the\",self.sound,\" sound makes by cat\",\"and she eat \",self.eat,\"daily\",\"and sleeps on here \",self.sleep)\n",
    "\n",
    "dog_eat=input(\"the dog food is :\")\n",
    "dog_sleep=input(\"he sleeps in his \")\n",
    "dog_sound=input(\"the sound he makes\")\n",
    "dog=Dog(dog_eat,dog_sleep,dog_sound)\n",
    "\n",
    "dog.dog_sound()\n",
    " \n",
    "cat_eat=input(\" the cat food is \")\n",
    "cat_sleep=input(\"she sleep in his \")\n",
    "cat_sound=input(\"the sound she makes\")\n",
    "cat=Cat(cat_eat,cat_sleep,cat_sound)\n",
    "\n",
    "cat.cat_sound()\n",
    " \n",
    "\n",
    "\n",
    "\n",
    "    "
   ]
  },
  {
   "cell_type": "markdown",
   "id": "a16fb1d8-6d3e-44f4-bca7-0eca0235a9bd",
   "metadata": {},
   "source": [
    "8. Library Catalog: Create a base class called LibraryItem with attributes such as title, author, and publication_year. Implement two subclasses Book and Magazine that inherit from LibraryItem. Add additional methods to the subclasses, such as checkout() and return_item(), and handle any specific behavior or rules for each item type."
   ]
  },
  {
   "cell_type": "code",
   "execution_count": 3,
   "id": "325121bf-42d9-4c04-abce-1f886224685a",
   "metadata": {},
   "outputs": [
    {
     "name": "stdin",
     "output_type": "stream",
     "text": [
      "enter book title the girl on the train\n",
      "enter book author paula hawkins\n",
      "enter book publication_year 2015\n"
     ]
    },
    {
     "name": "stdout",
     "output_type": "stream",
     "text": [
      "the girl on the train has been check_out\n",
      "please return the girl on the train paula hawkins within 10 days\n"
     ]
    },
    {
     "name": "stdin",
     "output_type": "stream",
     "text": [
      "enter magazine title hgufv\\\n",
      "enter magazine author hfuyf\n",
      "enter magazine publication_year ho\n"
     ]
    },
    {
     "name": "stdout",
     "output_type": "stream",
     "text": [
      "hgufv\\ has been check_out\n",
      "please return hgufv\\ hfuyf within 5 days\n"
     ]
    }
   ],
   "source": [
    "class Libraryitem:\n",
    "    def __init__(self,title,author,publication_year):\n",
    "        \n",
    "      self.title=title\n",
    "      self.author=author\n",
    "      self.publication_year=publication_year\n",
    "\n",
    "class Book(Libraryitem):\n",
    "    def check_out(self):\n",
    "        print(self.title,\"has been check_out\")\n",
    "    def return_item(self):\n",
    "        print(\"please return\",self.title,self.author,\"within 10 days\")\n",
    "\n",
    "class Magazine(Libraryitem):\n",
    "    def check_out(self):\n",
    "        print(self.title,\"has been check_out\")\n",
    "    def return_item(self):\n",
    "        print(\"please return\",self.title,self.author,\"within 5 days\")\n",
    "\n",
    "book_title=input(\"enter book title\")\n",
    "book_author=input(\"enter book author\")\n",
    "book_publication_year=input(\"enter book publication_year\")\n",
    "book=Book(book_title,book_author,book_publication_year)\n",
    "\n",
    "book.check_out()\n",
    "book.return_item()\n",
    "\n",
    "\n",
    "magazine_title=input(\"enter magazine title\")\n",
    "magazine_author=input(\"enter magazine author\")\n",
    "magazine_publication_year=input(\"enter magazine publication_year\")\n",
    "magazine=Magazine(magazine_title,magazine_author,magazine_publication_year)\n",
    "\n",
    "magazine.check_out()\n",
    "magazine.return_item()\n",
    "    \n",
    "        "
   ]
  },
  {
   "cell_type": "markdown",
   "id": "6a7b350f-c047-400c-bced-a67be0fb7334",
   "metadata": {},
   "source": [
    "9. Employees and Departments: Create a base class called Employee with attributes such as name, salary, and department. Implement two subclasses Manager and Staff that inherit from Employee. Add additional methods to the subclasses, such as assign_task() for managers and attend_meeting() for staff members. Create a separate class called Department that contains a list of employees and methods to add or remove employees from the department."
   ]
  },
  {
   "cell_type": "code",
   "execution_count": 52,
   "id": "73f07e9b-fd65-4f30-8ba2-b8891f51696f",
   "metadata": {},
   "outputs": [
    {
     "name": "stdin",
     "output_type": "stream",
     "text": [
      "enter employee name jhf\n",
      "salary 3552\n",
      "department jtdf\n",
      "enter employee name kuyfgg\n",
      "salary 6652\n",
      "department jd\n"
     ]
    },
    {
     "name": "stdout",
     "output_type": "stream",
     "text": [
      "jhf has been added to the  IT department\n",
      "kuyfgg has been added to the  IT department\n"
     ]
    },
    {
     "name": "stdin",
     "output_type": "stream",
     "text": [
      "enter task you want to give: do your work\n"
     ]
    },
    {
     "name": "stdout",
     "output_type": "stream",
     "text": [
      "jhf assinged the task do your work\n",
      "kuyfgg is attending meeting\n"
     ]
    }
   ],
   "source": [
    "class Employee:\n",
    "    def __init__(self,name,salary,department):\n",
    "        self.name=input(\"enter employee name\")\n",
    "        self.salary=float(input(\"salary\"))\n",
    "        self.department=input(\"department\")\n",
    "\n",
    "class Manager(Employee):\n",
    "    def assign_task(self,task):\n",
    "        self.task=task\n",
    "        print(self.name,\"assinged the task\",self.task)\n",
    "\n",
    "class Staff(Employee):\n",
    "    def attend_meeting(self):\n",
    "        print(self.name,\"is attending meeting\")\n",
    "\n",
    "class Department:\n",
    "    def __init__(self,name):\n",
    "        self.name=name\n",
    "        self.employees=[]\n",
    "\n",
    "    def add_employee(self,employee):\n",
    "        self.employees.append(employee)\n",
    "        print(employee.name,\"has been added to the \",self.name,\"department\")\n",
    "\n",
    "    def remove_employee(self,employee):\n",
    "        self.employees.remove(employee)\n",
    "        print(employee.name,\"has been removes to the \",self.name,\"department\")\n",
    " \n",
    "it_department = Department(\"IT\")\n",
    " \n",
    "manager = Manager(\"name\", 'salary', 'department')\n",
    "staff = Staff(\"name\", 'salary', 'department')\n",
    " \n",
    "it_department.add_employee(manager)\n",
    "it_department.add_employee(staff)\n",
    " \n",
    "manager.assign_task(input(\"enter task you want to give:\"))\n",
    " \n",
    "staff.attend_meeting()\n",
    " \n",
    " "
   ]
  },
  {
   "cell_type": "markdown",
   "id": "52de7f78-9e48-4c84-a8b9-86decec05584",
   "metadata": {},
   "source": [
    "10. Bank Transactions: Create a base class called BankAccount with attributes such as account_number and balance. Implement subclasses for different types of accounts such as CheckingAccount and SavingsAccount that inherit from BankAccount. Add additional methods to the subclasses, such as withdraw() and deposit(), and handle any specific behavior or rules for each account type.\n"
   ]
  },
  {
   "cell_type": "code",
   "execution_count": null,
   "id": "eac73d16-c739-4d9e-b336-a3d0713641e7",
   "metadata": {},
   "outputs": [],
   "source": [
    "class Bankaccount:\n",
    "    def __init__(self,account_number,balance)\n",
    "    self.account_number=account_number\n",
    "    self.balace=balance\n",
    "\n",
    "class CheckingAccount(Bankaccount) :\n",
    "    def withdraw(self,)\n",
    "        "
   ]
  },
  {
   "cell_type": "markdown",
   "id": "b7ea4abc-342a-479a-8923-a7dad6865cfc",
   "metadata": {},
   "source": [
    "11.School Management System: Create a base class called Person with attributes such as name, age, and address. Implement subclasses for different roles such as Student, Teacher, and Staff that inherit from Person. Add additional methods to the subclasses, such as take_exam() for students and teach_subject() for teachers."
   ]
  },
  {
   "cell_type": "code",
   "execution_count": 58,
   "id": "cd6db6b5-63d3-4163-8fff-efc72bd7e6b7",
   "metadata": {},
   "outputs": [
    {
     "name": "stdout",
     "output_type": "stream",
     "text": [
      "student information:\n"
     ]
    },
    {
     "name": "stdin",
     "output_type": "stream",
     "text": [
      "enter name serfs\n",
      "enter age dfe\n",
      "enter address e\n"
     ]
    },
    {
     "name": "stdout",
     "output_type": "stream",
     "text": [
      "-------------------\n",
      "teacher information:\n"
     ]
    },
    {
     "name": "stdin",
     "output_type": "stream",
     "text": [
      "enter name efsd\n",
      "enter age efs\n",
      "enter address wefsdc\n"
     ]
    },
    {
     "name": "stdout",
     "output_type": "stream",
     "text": [
      "-------------------\n",
      "staff information:\n"
     ]
    },
    {
     "name": "stdin",
     "output_type": "stream",
     "text": [
      "enter name wef\n",
      "enter age \n",
      "enter address wef\n"
     ]
    },
    {
     "name": "stdout",
     "output_type": "stream",
     "text": [
      "-------------------\n"
     ]
    },
    {
     "name": "stdin",
     "output_type": "stream",
     "text": [
      "enter exam subject  werf\n"
     ]
    },
    {
     "name": "stdout",
     "output_type": "stream",
     "text": [
      "serfs is taking the exam for werf.\n",
      "-------------------\n"
     ]
    },
    {
     "name": "stdin",
     "output_type": "stream",
     "text": [
      "enter teching subject wef\n"
     ]
    },
    {
     "name": "stdout",
     "output_type": "stream",
     "text": [
      "efsd is teaching wef.\n",
      "-------------------\n",
      "wef is managing the school facilities.\n"
     ]
    }
   ],
   "source": [
    "class Person:\n",
    "    def __init__(self):\n",
    "        self.name =input(\"enter name\")\n",
    "        self.age = input(\"enter age\")\n",
    "        self.address = input(\"enter address\")\n",
    " \n",
    "class Student(Person):\n",
    "    def take_exam(self, subject):\n",
    "        print(f\"{self.name} is taking the exam for {subject}.\")\n",
    " \n",
    "class Teacher(Person):\n",
    "    def teach_subject(self, subject):\n",
    "        print(f\"{self.name} is teaching {subject}.\")\n",
    "class Staff(Person):\n",
    "    def manage_facilities(self):\n",
    "        print(f\"{self.name} is managing the school facilities.\")\n",
    "\n",
    "\n",
    "\n",
    "print(\"student information:\")\n",
    "student = Student()   \n",
    "print(\"-------------------\")\n",
    "print(\"teacher information:\")\n",
    "teacher = Teacher() \n",
    "print(\"-------------------\")\n",
    "print(\"staff information:\")\n",
    "staff = Staff() \n",
    "print(\"-------------------\")\n",
    " \n",
    "student.take_exam(input(\"enter exam subject \"))\n",
    "print(\"-------------------\")\n",
    " \n",
    "teacher.teach_subject(input(\"enter teching subject\"))\n",
    "print(\"-------------------\")\n",
    " \n",
    "staff.manage_facilities()\n"
   ]
  }
 ],
 "metadata": {
  "kernelspec": {
   "display_name": "Python 3 (ipykernel)",
   "language": "python",
   "name": "python3"
  },
  "language_info": {
   "codemirror_mode": {
    "name": "ipython",
    "version": 3
   },
   "file_extension": ".py",
   "mimetype": "text/x-python",
   "name": "python",
   "nbconvert_exporter": "python",
   "pygments_lexer": "ipython3",
   "version": "3.11.7"
  }
 },
 "nbformat": 4,
 "nbformat_minor": 5
}
